{
 "cells": [
  {
   "cell_type": "markdown",
   "metadata": {},
   "source": [
    "<a href=\"https://colab.research.google.com/github/gupta799/LLMFinetuning/blob/main/gkd_knowledge_distillation.ipynb\" target=\"_parent\"><img src=\"https://colab.research.google.com/assets/colab-badge.svg\" alt=\"Open In Colab\"/></a>"
   ]
  },
  {
   "cell_type": "markdown",
   "metadata": {},
   "source": "# Knowledge Distillation with GKDTrainer\n\nThis notebook demonstrates knowledge distillation using the **GKDTrainer** from TRL (Transformer Reinforcement Learning) library.\n\n**Setup:**\n- **Teacher Model:** Llama-3.1-8B-Instruct (8B parameters)\n- **Student Model:** TinyLlama-1.1B-Chat-v1.0 (1.1B parameters)\n- **Dataset:** argilla/distilabel-math-preference-dpo (math reasoning dataset)\n\n**Goal:** Compress the knowledge from the 8B teacher model into the smaller 1.1B student model while maintaining strong mathematical reasoning capabilities.\n\n**Note:** Both models use the Llama tokenizer architecture, ensuring vocabulary compatibility for GKD training."
  },
  {
   "cell_type": "markdown",
   "metadata": {},
   "source": [
    "## 1. Setup & Installation"
   ]
  },
  {
   "cell_type": "code",
   "execution_count": null,
   "metadata": {},
   "outputs": [],
   "source": [
    "# Install required packages\n",
    "!pip install -q transformers datasets trl peft accelerate bitsandbytes torch"
   ]
  },
  {
   "cell_type": "code",
   "execution_count": null,
   "metadata": {},
   "outputs": [],
   "source": [
    "# Import libraries\n",
    "import torch\n",
    "from transformers import AutoModelForCausalLM, AutoTokenizer, BitsAndBytesConfig\n",
    "from datasets import load_dataset\n",
    "from trl import GKDTrainer, GKDConfig\n",
    "import os\n",
    "\n",
    "# Check GPU availability\n",
    "device = torch.device(\"cuda\" if torch.cuda.is_available() else \"cpu\")\n",
    "print(f\"Using device: {device}\")\n",
    "if torch.cuda.is_available():\n",
    "    print(f\"GPU: {torch.cuda.get_device_name(0)}\")\n",
    "    print(f\"GPU Memory: {torch.cuda.get_device_properties(0).total_memory / 1e9:.2f} GB\")"
   ]
  },
  {
   "cell_type": "markdown",
   "metadata": {},
   "source": "## 2. Load Models and Tokenizer\n\nWe'll load:\n- **Teacher Model (Llama-3.1-8B-Instruct):** Using 4-bit quantization to fit in GPU memory\n- **Student Model (TinyLlama-1.1B-Chat-v1.0):** Full precision for training\n- **Tokenizer:** Shared Llama tokenizer (ensures vocabulary compatibility)"
  },
  {
   "cell_type": "code",
   "execution_count": null,
   "metadata": {},
   "outputs": [],
   "source": "# Model names\nteacher_model_name = \"meta-llama/Llama-3.1-8B-Instruct\"\nstudent_model_name = \"TinyLlama/TinyLlama-1.1B-Chat-v1.0\"\n\n# Load tokenizer from teacher model (both models use Llama tokenizer)\nprint(\"Loading tokenizer...\")\ntokenizer = AutoTokenizer.from_pretrained(teacher_model_name)\n\n# Set padding token to eos_token if not already set\nif tokenizer.pad_token is None:\n    tokenizer.pad_token = tokenizer.eos_token\ntokenizer.padding_side = \"right\"\n\nprint(f\"Tokenizer loaded: {len(tokenizer)} tokens in vocabulary\")\nprint(f\"Vocab size: {tokenizer.vocab_size}\")"
  },
  {
   "cell_type": "code",
   "execution_count": null,
   "metadata": {},
   "outputs": [],
   "source": "# Configure 4-bit quantization for teacher model to save memory\nbnb_config = BitsAndBytesConfig(\n    load_in_4bit=True,\n    bnb_4bit_quant_type=\"nf4\",\n    bnb_4bit_compute_dtype=torch.bfloat16,\n    bnb_4bit_use_double_quant=True,\n)\n\nprint(\"Loading teacher model (Llama-3.1-8B-Instruct with 4-bit quantization)...\")\nteacher_model = AutoModelForCausalLM.from_pretrained(\n    teacher_model_name,\n    quantization_config=bnb_config,\n    device_map=\"auto\",\n    torch_dtype=torch.bfloat16,\n)\nteacher_model.eval()  # Set to evaluation mode\n\nprint(f\"Teacher model loaded: {sum(p.numel() for p in teacher_model.parameters()) / 1e9:.2f}B parameters\")\nprint(f\"Teacher vocab size: {teacher_model.config.vocab_size}\")"
  },
  {
   "cell_type": "code",
   "execution_count": null,
   "metadata": {},
   "outputs": [],
   "source": "print(\"Loading student model (TinyLlama-1.1B-Chat-v1.0)...\")\nstudent_model = AutoModelForCausalLM.from_pretrained(\n    student_model_name,\n    torch_dtype=torch.bfloat16,\n    device_map=\"auto\",\n)\nstudent_model.train()  # Set to training mode\n\nprint(f\"Student model loaded: {sum(p.numel() for p in student_model.parameters()) / 1e9:.2f}B parameters\")\nprint(f\"Student vocab size: {student_model.config.vocab_size}\")\n\n# Verify vocabulary sizes match\nprint(f\"\\n✓ Vocabulary compatibility check:\")\nprint(f\"  Teacher vocab size: {teacher_model.config.vocab_size}\")\nprint(f\"  Student vocab size: {student_model.config.vocab_size}\")\nif teacher_model.config.vocab_size == student_model.config.vocab_size:\n    print(f\"  ✓ Vocabularies match! GKD training will work correctly.\")\nelse:\n    print(f\"  ✗ WARNING: Vocabulary size mismatch detected!\")"
  },
  {
   "cell_type": "markdown",
   "metadata": {},
   "source": [
    "## 3. Dataset Preparation\n",
    "\n",
    "We'll load the **argilla/distilabel-math-preference-dpo** dataset and format it for the GKDTrainer.\n",
    "\n",
    "The GKDTrainer expects data in conversational format with role-content dictionaries."
   ]
  },
  {
   "cell_type": "code",
   "execution_count": null,
   "metadata": {},
   "outputs": [],
   "source": [
    "# Load dataset\n",
    "print(\"Loading dataset...\")\n",
    "dataset = load_dataset(\"argilla/distilabel-math-preference-dpo\", split=\"train\")\n",
    "\n",
    "# Take a subset for faster training (remove this line for full training)\n",
    "dataset = dataset.select(range(min(5000, len(dataset))))\n",
    "\n",
    "print(f\"Dataset loaded: {len(dataset)} examples\")\n",
    "print(f\"Dataset features: {dataset.features}\")\n",
    "print(f\"\\nSample example:\")\n",
    "print(dataset[0])"
   ]
  },
  {
   "cell_type": "code",
   "execution_count": null,
   "metadata": {},
   "outputs": [],
   "source": [
    "# Format dataset for GKDTrainer\n",
    "# The dataset should have conversational format with messages\n",
    "\n",
    "def format_dataset(example):\n",
    "    \"\"\"Convert dataset to conversational format expected by GKDTrainer.\"\"\"\n",
    "    # Check if 'messages' field exists, otherwise create it\n",
    "    if 'messages' not in example:\n",
    "        # Construct messages from prompt and chosen response\n",
    "        messages = [\n",
    "            {\"role\": \"user\", \"content\": example.get('prompt', example.get('instruction', ''))},\n",
    "            {\"role\": \"assistant\", \"content\": example.get('chosen', example.get('response', ''))}\n",
    "        ]\n",
    "        example['messages'] = messages\n",
    "    \n",
    "    return example\n",
    "\n",
    "print(\"Formatting dataset...\")\n",
    "dataset = dataset.map(format_dataset)\n",
    "\n",
    "# Split into train and eval\n",
    "dataset = dataset.train_test_split(test_size=0.1, seed=42)\n",
    "train_dataset = dataset['train']\n",
    "eval_dataset = dataset['test']\n",
    "\n",
    "print(f\"Train dataset: {len(train_dataset)} examples\")\n",
    "print(f\"Eval dataset: {len(eval_dataset)} examples\")"
   ]
  },
  {
   "cell_type": "markdown",
   "metadata": {},
   "source": [
    "## 4. Configure GKDTrainer\n",
    "\n",
    "**GKD Configuration Parameters:**\n",
    "- **lmbda (λ):** Controls the proportion of student-generated outputs (0.5 = balanced)\n",
    "- **beta (β):** Interpolates between forward KL and reverse KL divergence (0.5 = balanced)\n",
    "- **seq_kd:** Whether to use sequence-level knowledge distillation (False = token-level)"
   ]
  },
  {
   "cell_type": "code",
   "execution_count": null,
   "metadata": {},
   "outputs": [],
   "source": "# Configure GKD training arguments\ntraining_args = GKDConfig(\n    output_dir=\"./gkd_llama_distillation\",\n    \n    # GKD-specific parameters\n    lmbda=0.5,  # Balance between supervised and on-policy learning\n    beta=0.5,   # Balance between forward and reverse KL divergence\n    seq_kd=False,  # Use token-level distillation\n    \n    # Training hyperparameters\n    num_train_epochs=3,\n    per_device_train_batch_size=2,\n    per_device_eval_batch_size=2,\n    gradient_accumulation_steps=8,\n    \n    # Optimization\n    learning_rate=5e-5,\n    lr_scheduler_type=\"cosine\",\n    warmup_ratio=0.1,\n    weight_decay=0.01,\n    \n    # Memory optimization\n    gradient_checkpointing=True,\n    bf16=True,\n    \n    # Logging and evaluation\n    logging_steps=10,\n    eval_strategy=\"steps\",\n    eval_steps=100,\n    save_strategy=\"steps\",\n    save_steps=200,\n    save_total_limit=2,\n    \n    # Other settings\n    remove_unused_columns=False,\n    report_to=\"none\",  # Change to \"wandb\" if you want to log to Weights & Biases\n)\n\nprint(\"GKD Configuration:\")\nprint(f\"  Lambda (λ): {training_args.lmbda}\")\nprint(f\"  Beta (β): {training_args.beta}\")\nprint(f\"  Sequence KD: {training_args.seq_kd}\")\nprint(f\"  Learning rate: {training_args.learning_rate}\")\nprint(f\"  Epochs: {training_args.num_train_epochs}\")\nprint(f\"  Effective batch size: {training_args.per_device_train_batch_size * training_args.gradient_accumulation_steps}\")"
  },
  {
   "cell_type": "markdown",
   "metadata": {},
   "source": [
    "## 5. Initialize GKDTrainer and Start Training"
   ]
  },
  {
   "cell_type": "code",
   "execution_count": null,
   "metadata": {},
   "outputs": [],
   "source": [
    "# Initialize GKDTrainer\n",
    "print(\"Initializing GKDTrainer...\")\n",
    "trainer = GKDTrainer(\n",
    "    model=student_model,\n",
    "    teacher_model=teacher_model,\n",
    "    args=training_args,\n",
    "    processing_class=tokenizer,\n",
    "    train_dataset=train_dataset,\n",
    "    eval_dataset=eval_dataset,\n",
    ")\n",
    "\n",
    "print(\"GKDTrainer initialized successfully!\")\n",
    "print(f\"\\nStarting knowledge distillation training...\")"
   ]
  },
  {
   "cell_type": "code",
   "execution_count": null,
   "metadata": {},
   "outputs": [],
   "source": [
    "# Start training\n",
    "train_result = trainer.train()\n",
    "\n",
    "print(\"\\n=\" * 50)\n",
    "print(\"Training completed!\")\n",
    "print(\"=\" * 50)\n",
    "print(f\"\\nTraining metrics:\")\n",
    "print(f\"  Final loss: {train_result.metrics['train_loss']:.4f}\")\n",
    "print(f\"  Training time: {train_result.metrics['train_runtime']:.2f} seconds\")\n",
    "print(f\"  Samples per second: {train_result.metrics['train_samples_per_second']:.2f}\")"
   ]
  },
  {
   "cell_type": "code",
   "execution_count": null,
   "metadata": {},
   "outputs": [],
   "source": "# Save the distilled student model\nprint(\"\\nSaving distilled student model...\")\noutput_dir = \"./distilled_tinyllama_1.1b_math\"\ntrainer.save_model(output_dir)\ntokenizer.save_pretrained(output_dir)\n\nprint(f\"Model saved to: {output_dir}\")"
  },
  {
   "cell_type": "markdown",
   "metadata": {},
   "source": [
    "## 6. Evaluation and Testing\n",
    "\n",
    "Let's test the distilled student model on sample math problems and compare with the teacher."
   ]
  },
  {
   "cell_type": "code",
   "execution_count": null,
   "metadata": {},
   "outputs": [],
   "source": [
    "# Test prompts\n",
    "test_prompts = [\n",
    "    \"Solve the equation: 3x + 7 = 22\",\n",
    "    \"What is the derivative of f(x) = x^3 + 2x^2 - 5x + 1?\",\n",
    "    \"If a train travels at 60 mph for 2.5 hours, how far does it travel?\",\n",
    "    \"Calculate the area of a circle with radius 5 cm.\",\n",
    "]\n",
    "\n",
    "print(\"Testing the distilled student model on math problems...\\n\")\n",
    "print(\"=\" * 80)"
   ]
  },
  {
   "cell_type": "code",
   "execution_count": null,
   "metadata": {},
   "outputs": [],
   "source": "# Set models to eval mode\nstudent_model.eval()\nteacher_model.eval()\n\ndef generate_response(model, prompt, max_new_tokens=200):\n    \"\"\"Generate response from a model.\"\"\"\n    messages = [{\"role\": \"user\", \"content\": prompt}]\n    text = tokenizer.apply_chat_template(\n        messages,\n        tokenize=False,\n        add_generation_prompt=True\n    )\n    \n    inputs = tokenizer(text, return_tensors=\"pt\").to(model.device)\n    \n    with torch.no_grad():\n        outputs = model.generate(\n            **inputs,\n            max_new_tokens=max_new_tokens,\n            do_sample=False,\n            pad_token_id=tokenizer.eos_token_id,\n        )\n    \n    response = tokenizer.decode(outputs[0][inputs['input_ids'].shape[1]:], skip_special_tokens=True)\n    return response.strip()\n\n# Test each prompt\nfor i, prompt in enumerate(test_prompts, 1):\n    print(f\"\\n📝 Test {i}: {prompt}\")\n    print(\"-\" * 80)\n    \n    # Get student response\n    print(\"\\n🎓 Student Model (Distilled TinyLlama-1.1B):\")\n    student_response = generate_response(student_model, prompt)\n    print(student_response)\n    \n    # Get teacher response\n    print(\"\\n👨‍🏫 Teacher Model (Llama-3.1-8B):\")\n    teacher_response = generate_response(teacher_model, prompt)\n    print(teacher_response)\n    \n    print(\"\\n\" + \"=\" * 80)"
  },
  {
   "cell_type": "markdown",
   "metadata": {},
   "source": [
    "## 7. Model Comparison Summary\n",
    "\n",
    "Let's compare the models:"
   ]
  },
  {
   "cell_type": "code",
   "execution_count": null,
   "metadata": {},
   "outputs": [],
   "source": "# Calculate model sizes\ndef get_model_size(model):\n    \"\"\"Calculate model size in GB.\"\"\"\n    param_size = sum(p.nelement() * p.element_size() for p in model.parameters())\n    buffer_size = sum(b.nelement() * b.element_size() for b in model.buffers())\n    return (param_size + buffer_size) / (1024**3)\n\nteacher_size = get_model_size(teacher_model)\nstudent_size = get_model_size(student_model)\n\nprint(\"\\n\" + \"=\" * 80)\nprint(\"Model Comparison Summary\")\nprint(\"=\" * 80)\nprint(f\"\\n📊 Teacher Model (Llama-3.1-8B-Instruct):\")\nprint(f\"   - Parameters: ~8B\")\nprint(f\"   - Memory footprint: {teacher_size:.2f} GB (4-bit quantized)\")\nprint(f\"\\n📊 Student Model (Distilled TinyLlama-1.1B):\")\nprint(f\"   - Parameters: ~1.1B\")\nprint(f\"   - Memory footprint: {student_size:.2f} GB\")\nprint(f\"\\n🎯 Compression Ratio: ~7.3x smaller\")\nprint(f\"   - Size reduction: {(1 - student_size/teacher_size) * 100:.1f}%\")\nprint(\"\\n✅ Benefits of the distilled student model:\")\nprint(\"   - Much faster inference\")\nprint(\"   - Lower memory requirements\")\nprint(\"   - Suitable for edge deployment\")\nprint(\"   - Retains mathematical reasoning capabilities from teacher\")\nprint(\"   - Compatible with Llama ecosystem\")"
  },
  {
   "cell_type": "markdown",
   "metadata": {},
   "source": "## Conclusion\n\nIn this notebook, we successfully used the **GKDTrainer** from TRL to distill knowledge from the **Llama-3.1-8B-Instruct** teacher model into the smaller **TinyLlama-1.1B-Chat-v1.0** student model.\n\n**Key Takeaways:**\n1. ✅ The GKDTrainer implements Generalized Knowledge Distillation, addressing train-inference distribution mismatch\n2. ✅ Using `lmbda=0.5` balances supervised learning with on-policy learning\n3. ✅ Using `beta=0.5` balances forward and reverse KL divergence\n4. ✅ 4-bit quantization allows loading large teacher models on consumer GPUs\n5. ✅ The distilled model is ~7x smaller while retaining strong math reasoning\n6. ✅ Both models use the Llama tokenizer, ensuring vocabulary compatibility\n\n**Why This Model Pair Works:**\n- Both Llama-3.1-8B and TinyLlama-1.1B use the same tokenizer architecture\n- Identical vocabulary sizes prevent tensor shape mismatches during training\n- TinyLlama was specifically designed to be compatible with the Llama ecosystem\n\n**Next Steps:**\n- Fine-tune hyperparameters (lmbda, beta) for better performance\n- Try different datasets for domain-specific distillation\n- Experiment with larger training datasets\n- Evaluate on standard benchmarks (GSM8K, MATH, etc.)\n- Deploy the distilled model for production use"
  }
 ],
 "metadata": {
  "accelerator": "GPU",
  "colab": {
   "gpuType": "T4",
   "provenance": []
  },
  "kernelspec": {
   "display_name": "Python 3",
   "name": "python3"
  },
  "language_info": {
   "name": "python"
  }
 },
 "nbformat": 4,
 "nbformat_minor": 0
}